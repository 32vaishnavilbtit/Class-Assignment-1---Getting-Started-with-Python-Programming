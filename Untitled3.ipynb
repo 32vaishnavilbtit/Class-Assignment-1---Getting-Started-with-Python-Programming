{
  "nbformat": 4,
  "nbformat_minor": 0,
  "metadata": {
    "colab": {
      "name": "Untitled3.ipynb",
      "provenance": [],
      "authorship_tag": "ABX9TyPSvNYMUGZQuhmqvfRCMeQL",
      "include_colab_link": true
    },
    "kernelspec": {
      "name": "python3",
      "display_name": "Python 3"
    }
  },
  "cells": [
    {
      "cell_type": "markdown",
      "metadata": {
        "id": "view-in-github",
        "colab_type": "text"
      },
      "source": [
        "<a href=\"https://colab.research.google.com/github/32vaishnavilbtit/Class-Assignment-1---Getting-Started-with-Python-Programming/blob/master/Untitled3.ipynb\" target=\"_parent\"><img src=\"https://colab.research.google.com/assets/colab-badge.svg\" alt=\"Open In Colab\"/></a>"
      ]
    },
    {
      "cell_type": "markdown",
      "metadata": {
        "id": "cxGH7D_6V6ml"
      },
      "source": [
        "answerc to first question"
      ]
    },
    {
      "cell_type": "markdown",
      "metadata": {
        "id": "nQnVy0bCWC2u"
      },
      "source": [
        ""
      ]
    },
    {
      "cell_type": "code",
      "metadata": {
        "id": "omE7H1gZS1zv",
        "outputId": "baa157ee-9bca-4a26-d563-95e415c27d3a",
        "colab": {
          "base_uri": "https://localhost:8080/"
        }
      },
      "source": [
        " import pickle \n",
        " f =open(\"n.txt\",\"w\")\n",
        " n = [8,3,9,1,2]\n",
        " s = pickle.dumps(n)\n",
        " f.close()\n",
        " f =open(\"n.txt\",\"r\")\n",
        " t = pickle.loads(s)\n",
        " t.sort()\n",
        " cp =[]\n",
        " for a in t:\n",
        "      if a not in cp: \n",
        "        cp.append(a)\n",
        " print(cp)"
      ],
      "execution_count": 10,
      "outputs": [
        {
          "output_type": "stream",
          "text": [
            "[1, 2, 3, 8, 9]\n"
          ],
          "name": "stdout"
        }
      ]
    },
    {
      "cell_type": "code",
      "metadata": {
        "id": "3fouUQ1sUkLN",
        "outputId": "11fb7e6e-37ea-497c-b225-ffc6d73e20a4",
        "colab": {
          "base_uri": "https://localhost:8080/"
        }
      },
      "source": [
        " str = \",\".join(str(i) for i in cp)\n",
        " f.close()\n",
        " f =open(\"n.txt\",\"w\")\n",
        " f.write(str)"
      ],
      "execution_count": 11,
      "outputs": [
        {
          "output_type": "execute_result",
          "data": {
            "text/plain": [
              "9"
            ]
          },
          "metadata": {
            "tags": []
          },
          "execution_count": 11
        }
      ]
    },
    {
      "cell_type": "code",
      "metadata": {
        "id": "60v6CNq2VPOg"
      },
      "source": [
        "f.close()"
      ],
      "execution_count": 14,
      "outputs": []
    },
    {
      "cell_type": "markdown",
      "metadata": {
        "id": "mwSswN9UV3rF"
      },
      "source": [
        ""
      ]
    },
    {
      "cell_type": "code",
      "metadata": {
        "id": "4lOufttVVQ_H",
        "outputId": "536aae2b-9bef-4b2c-fe79-d44d5396e387",
        "colab": {
          "base_uri": "https://localhost:8080/"
        }
      },
      "source": [
        "def copyfile(oldfile,newfile):\n",
        "  f1 = open(oldfile,\"r\")\n",
        "  f2 = open(newfile,\"w\")\n",
        "  while True:\n",
        "    text=f1.read(50)\n",
        "    if text==\"\":\n",
        "      break\n",
        "    f2.write(text) \n",
        "  f1.close\n",
        "  f2.close\n",
        "  return\n",
        "copyfile(\"n.txt\",\"t.txt\")\n",
        "newfile=open(\"t.txt\",\"r\")   \n",
        "print(newfile.read())"
      ],
      "execution_count": 13,
      "outputs": [
        {
          "output_type": "stream",
          "text": [
            "1,2,3,8,9\n"
          ],
          "name": "stdout"
        }
      ]
    },
    {
      "cell_type": "markdown",
      "metadata": {
        "id": "8QOGHNK2WJgV"
      },
      "source": [
        "answer to second question"
      ]
    },
    {
      "cell_type": "code",
      "metadata": {
        "id": "iNRc8VvhWOe9",
        "outputId": "a0438cf1-9086-4632-af88-d3d66b6f6dfb",
        "colab": {
          "base_uri": "https://localhost:8080/"
        }
      },
      "source": [
        " file1 = open(\"file1.txt\",\"w\")\n",
        " file1.write(\"line1 \\n\\n line2\")"
      ],
      "execution_count": 16,
      "outputs": [
        {
          "output_type": "execute_result",
          "data": {
            "text/plain": [
              "14"
            ]
          },
          "metadata": {
            "tags": []
          },
          "execution_count": 16
        }
      ]
    },
    {
      "cell_type": "code",
      "metadata": {
        "id": "uURhXSV4WhQ8",
        "outputId": "36c1e743-dd39-4fe0-dfab-13814f60db46",
        "colab": {
          "base_uri": "https://localhost:8080/"
        }
      },
      "source": [
        " file1.close()\n",
        " file1 = open(\"file1.txt\",\"r\")\n",
        " str = file1.read()\n",
        " str1 = str.replace(\"\\n\\n\",\"\")\n",
        " print(str)"
      ],
      "execution_count": 18,
      "outputs": [
        {
          "output_type": "stream",
          "text": [
            "line1 \n",
            "\n",
            " line2\n"
          ],
          "name": "stdout"
        }
      ]
    },
    {
      "cell_type": "code",
      "metadata": {
        "id": "YrRJCuQuWqUL",
        "outputId": "4e7ae672-ed12-48e4-8d39-f84675e5c178",
        "colab": {
          "base_uri": "https://localhost:8080/"
        }
      },
      "source": [
        "print(str1)"
      ],
      "execution_count": 19,
      "outputs": [
        {
          "output_type": "stream",
          "text": [
            "line1  line2\n"
          ],
          "name": "stdout"
        }
      ]
    },
    {
      "cell_type": "code",
      "metadata": {
        "id": "DtN-epTLWxLL",
        "outputId": "54d8687e-ab4f-4542-f32c-2454756849ec",
        "colab": {
          "base_uri": "https://localhost:8080/"
        }
      },
      "source": [
        " file1.close()\n",
        " file1 = open(\"file1.txt\",\"w\")\n",
        " file1.write(str1)"
      ],
      "execution_count": 21,
      "outputs": [
        {
          "output_type": "execute_result",
          "data": {
            "text/plain": [
              "12"
            ]
          },
          "metadata": {
            "tags": []
          },
          "execution_count": 21
        }
      ]
    },
    {
      "cell_type": "code",
      "metadata": {
        "id": "8U5R_i2JW3lj",
        "outputId": "48eae2ee-65d6-45cc-8c4e-f1f6c7cd9f07",
        "colab": {
          "base_uri": "https://localhost:8080/"
        }
      },
      "source": [
        " file1.close()\n",
        "def copyFile(oldFile, newFile):\n",
        "  f1 = open(oldFile, \"r\")\n",
        "  f2 = open(newFile, \"w\")\n",
        "  while True:\n",
        "        text = f1.read(50)\n",
        "        if text == \"\":\n",
        "          break\n",
        "        f2.write(text)\n",
        "  f1.close()\n",
        "  f2.close()\n",
        "  return\n",
        "\n",
        "copyFile(\"file1.txt\",\"file2.txt\")\n",
        "\n",
        " file2 = open(\"file2.txt\",\"r\")\n",
        " print(file2.read())"
      ],
      "execution_count": 23,
      "outputs": [
        {
          "output_type": "stream",
          "text": [
            "line1  line2\n"
          ],
          "name": "stdout"
        }
      ]
    }
  ]
}