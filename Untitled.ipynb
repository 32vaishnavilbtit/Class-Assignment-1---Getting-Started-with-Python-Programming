{
  "nbformat": 4,
  "nbformat_minor": 0,
  "metadata": {
    "colab": {
      "name": "Untitled",
      "provenance": [],
      "authorship_tag": "ABX9TyNw15adK7JZMi81z/mMunVV",
      "include_colab_link": true
    },
    "kernelspec": {
      "name": "python3",
      "display_name": "Python 3"
    }
  },
  "cells": [
    {
      "cell_type": "markdown",
      "metadata": {
        "id": "view-in-github",
        "colab_type": "text"
      },
      "source": [
        "<a href=\"https://colab.research.google.com/github/32vaishnavilbtit/Class-Assignment-1---Getting-Started-with-Python-Programming/blob/master/Untitled.ipynb\" target=\"_parent\"><img src=\"https://colab.research.google.com/assets/colab-badge.svg\" alt=\"Open In Colab\"/></a>"
      ]
    },
    {
      "cell_type": "code",
      "metadata": {
        "id": "fxcfDv2eAGKe"
      },
      "source": [
        " \n",
        "def delblankline(oldFile,newFile):\n",
        "  f1= open(oldFile,\"r\")\n",
        "  f2= open(newFile,\"w\")\n",
        "  while True:\n",
        "   text=f1.readline()\n",
        "   if next==\"\":\n",
        "    break\n",
        "   if text=='\\0':\n",
        "    continue\n",
        "   f2.write(text)\n",
        "  f1.close()\n",
        "  f2.close()\n",
        "  return"
      ],
      "execution_count": null,
      "outputs": []
    }
  ]
}